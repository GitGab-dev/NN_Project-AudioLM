{
 "cells": [
  {
   "cell_type": "code",
   "execution_count": 1,
   "metadata": {},
   "outputs": [],
   "source": [
    "from SoundStream import soundstream_16khz, prepare_acoustic_tokens, divide_tokens, encode_audio, decode_audio"
   ]
  },
  {
   "cell_type": "code",
   "execution_count": 2,
   "metadata": {},
   "outputs": [
    {
     "name": "stdout",
     "output_type": "stream",
     "text": [
      "torch.Size([1, 151, 512])\n"
     ]
    }
   ],
   "source": [
    "model = soundstream_16khz()\n",
    "\n",
    "audio_path = 'canterburytales_09_chaucer_64kb_0000.flac'\n",
    "\n",
    "start = 0\n",
    "duration = 3\n",
    "\n",
    "y = encode_audio(audio_path, model, start, duration)\n",
    "\n",
    "audio = decode_audio(y, model)"
   ]
  },
  {
   "cell_type": "code",
   "execution_count": 3,
   "metadata": {},
   "outputs": [],
   "source": [
    "Q = 8\n",
    "N = 1024\n",
    "Q_prime = 3\n",
    "\n",
    "full_token_list, offsets = prepare_acoustic_tokens(y, Q, N)\n",
    "\n",
    "coarse_token_list, fine_token_list = divide_tokens(full_token_list, Q, Q_prime)\n"
   ]
  },
  {
   "cell_type": "code",
   "execution_count": 7,
   "metadata": {},
   "outputs": [
    {
     "name": "stdout",
     "output_type": "stream",
     "text": [
      "1208\n",
      "1208\n",
      "755\n"
     ]
    }
   ],
   "source": [
    "print(full_token_list.numel())\n",
    "print(coarse_token_list.numel() + fine_token_list.numel())\n",
    "print(fine_token_list.numel())"
   ]
  }
 ],
 "metadata": {
  "kernelspec": {
   "display_name": "Python 3",
   "language": "python",
   "name": "python3"
  },
  "language_info": {
   "codemirror_mode": {
    "name": "ipython",
    "version": 3
   },
   "file_extension": ".py",
   "mimetype": "text/x-python",
   "name": "python",
   "nbconvert_exporter": "python",
   "pygments_lexer": "ipython3",
   "version": "3.12.4"
  }
 },
 "nbformat": 4,
 "nbformat_minor": 2
}
